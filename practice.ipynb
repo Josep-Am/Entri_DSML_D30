{
  "nbformat": 4,
  "nbformat_minor": 0,
  "metadata": {
    "colab": {
      "provenance": [],
      "authorship_tag": "ABX9TyNhz8ifYB1CDieunGZXXaGp",
      "include_colab_link": true
    },
    "kernelspec": {
      "name": "python3",
      "display_name": "Python 3"
    },
    "language_info": {
      "name": "python"
    }
  },
  "cells": [
    {
      "cell_type": "markdown",
      "metadata": {
        "id": "view-in-github",
        "colab_type": "text"
      },
      "source": [
        "<a href=\"https://colab.research.google.com/github/Josep-Am/Entri_DSML_D30/blob/main/practice.ipynb\" target=\"_parent\"><img src=\"https://colab.research.google.com/assets/colab-badge.svg\" alt=\"Open In Colab\"/></a>"
      ]
    },
    {
      "cell_type": "code",
      "execution_count": null,
      "metadata": {
        "colab": {
          "base_uri": "https://localhost:8080/"
        },
        "id": "DD1N5WNkmvQC",
        "outputId": "10ac84ed-b4b7-4b79-899a-da702bdc7d13"
      },
      "outputs": [
        {
          "output_type": "stream",
          "name": "stdout",
          "text": [
            "enter a number:77\n",
            "77  is odd\n"
          ]
        }
      ],
      "source": [
        "a = int(input(\"enter a number:\"))\n",
        "print(a,\" is even\") if a%2==0 else print(a,\" is odd\")"
      ]
    },
    {
      "cell_type": "code",
      "source": [
        "a=int(input(\"enter upper limit:\"))\n",
        "i=1\n",
        "while i<=a:\n",
        "  print(i)\n",
        "  i+=1"
      ],
      "metadata": {
        "colab": {
          "base_uri": "https://localhost:8080/"
        },
        "id": "onzwz0HGtobA",
        "outputId": "51788a68-ec45-45b7-8cf6-c3821393b34f"
      },
      "execution_count": null,
      "outputs": [
        {
          "output_type": "stream",
          "name": "stdout",
          "text": [
            "enter upper limit:10\n",
            "1\n",
            "2\n",
            "3\n",
            "4\n",
            "5\n",
            "6\n",
            "7\n",
            "8\n",
            "9\n",
            "10\n"
          ]
        }
      ]
    },
    {
      "cell_type": "code",
      "source": [
        "a=int(input(\"enter upper limit:\"))\n",
        "b=int(input(\"enter break limit:\"))\n",
        "i=1\n",
        "while i<=a:\n",
        "  print(i)\n",
        "  if i==b:\n",
        "    break\n",
        "  i+=1"
      ],
      "metadata": {
        "colab": {
          "base_uri": "https://localhost:8080/"
        },
        "id": "epNvh_rUuSK1",
        "outputId": "3e6aadb3-4505-4d93-bde0-66ad54cda37a"
      },
      "execution_count": null,
      "outputs": [
        {
          "output_type": "stream",
          "name": "stdout",
          "text": [
            "enter upper limit:80\n",
            "enter break limit:2\n",
            "1\n",
            "2\n"
          ]
        }
      ]
    },
    {
      "cell_type": "code",
      "source": [
        "a=int(input(\"enter upper limit:\"))\n",
        "b=int(input(\"enter continue limit:\"))\n",
        "i=0\n",
        "while i<a:\n",
        "  i+=1\n",
        "\n",
        "  if i==b:\n",
        "    continue\n",
        "  print(i)\n"
      ],
      "metadata": {
        "colab": {
          "base_uri": "https://localhost:8080/"
        },
        "id": "p-8aMZ3Euwv0",
        "outputId": "2060ac3b-35cd-4d69-cd9f-98aa6eacba2d"
      },
      "execution_count": null,
      "outputs": [
        {
          "output_type": "stream",
          "name": "stdout",
          "text": [
            "enter upper limit:10\n",
            "enter continue limit:6\n",
            "1\n",
            "2\n",
            "3\n",
            "4\n",
            "5\n",
            "7\n",
            "8\n",
            "9\n",
            "10\n"
          ]
        }
      ]
    },
    {
      "cell_type": "code",
      "source": [
        "a=int(input(\"enter upper limit:\"))\n",
        "print(\"the odd numbers in the limit of\",a)\n",
        "\n",
        "i=0\n",
        "while i<a:\n",
        "  i+=1\n",
        "\n",
        "  if i%2==0:\n",
        "    continue\n",
        "  print(i)\n"
      ],
      "metadata": {
        "colab": {
          "base_uri": "https://localhost:8080/"
        },
        "id": "D_cwHvQnwQB4",
        "outputId": "88aa4b73-2d1a-47db-b46f-010e76e4d0b1"
      },
      "execution_count": null,
      "outputs": [
        {
          "output_type": "stream",
          "name": "stdout",
          "text": [
            "enter upper limit:10\n",
            "the odd numbers in the limit of 10\n",
            "1\n",
            "3\n",
            "5\n",
            "7\n",
            "9\n"
          ]
        }
      ]
    },
    {
      "cell_type": "code",
      "source": [
        "for i in \"banana\":\n",
        "  print(i)\n",
        "  print(\"\")"
      ],
      "metadata": {
        "colab": {
          "base_uri": "https://localhost:8080/"
        },
        "id": "XRwEulq9w1E8",
        "outputId": "e1480bed-bf51-42f6-c76d-f0614e135cc0"
      },
      "execution_count": null,
      "outputs": [
        {
          "output_type": "stream",
          "name": "stdout",
          "text": [
            "b\n",
            "\n",
            "a\n",
            "\n",
            "n\n",
            "\n",
            "a\n",
            "\n",
            "n\n",
            "\n",
            "a\n",
            "\n"
          ]
        }
      ]
    },
    {
      "cell_type": "code",
      "source": [
        "\n",
        "l=[1,2,3,4,5]\n",
        "for i in l:\n",
        "  print(i+10)\n",
        "  print(\"\")"
      ],
      "metadata": {
        "colab": {
          "base_uri": "https://localhost:8080/"
        },
        "id": "nPgaHqIrw_Zf",
        "outputId": "aac7bc2d-30c8-467c-c47e-bb5b65970c8d"
      },
      "execution_count": null,
      "outputs": [
        {
          "output_type": "stream",
          "name": "stdout",
          "text": [
            "11\n",
            "\n",
            "12\n",
            "\n",
            "13\n",
            "\n",
            "14\n",
            "\n",
            "15\n",
            "\n"
          ]
        }
      ]
    },
    {
      "cell_type": "code",
      "source": [
        "for i in range(10):\n",
        "  print(i)"
      ],
      "metadata": {
        "colab": {
          "base_uri": "https://localhost:8080/"
        },
        "id": "L8a_K9G-xPt-",
        "outputId": "eb969782-baec-46b5-be7b-4b3be2aae2cd"
      },
      "execution_count": null,
      "outputs": [
        {
          "output_type": "stream",
          "name": "stdout",
          "text": [
            "0\n",
            "1\n",
            "2\n",
            "3\n",
            "4\n",
            "5\n",
            "6\n",
            "7\n",
            "8\n",
            "9\n"
          ]
        }
      ]
    },
    {
      "cell_type": "code",
      "source": [
        "for i in range(0,20,5):\n",
        "  print(i)"
      ],
      "metadata": {
        "colab": {
          "base_uri": "https://localhost:8080/"
        },
        "id": "845xmkF7xbx_",
        "outputId": "efccd9c0-91ac-4417-ee71-b8a4f0ef75ec"
      },
      "execution_count": null,
      "outputs": [
        {
          "output_type": "stream",
          "name": "stdout",
          "text": [
            "0\n",
            "5\n",
            "10\n",
            "15\n"
          ]
        }
      ]
    },
    {
      "cell_type": "code",
      "source": [
        "from os import XATTR_REPLACE\n",
        "l=[\"apple\",\"banana\",\"cherry\"]\n",
        "for x in l:\n",
        "  print(x)"
      ],
      "metadata": {
        "colab": {
          "base_uri": "https://localhost:8080/"
        },
        "id": "v8de37xhx8Od",
        "outputId": "eeb4d95b-6b6c-465d-fb96-5bdc072fd883"
      },
      "execution_count": null,
      "outputs": [
        {
          "output_type": "stream",
          "name": "stdout",
          "text": [
            "apple\n",
            "banana\n",
            "cherry\n"
          ]
        }
      ]
    },
    {
      "cell_type": "code",
      "source": [
        "adj=[\"red\",\"big\",\"tasty\"]\n",
        "fruits = [\"apple\",\"banana\",\"cherry\"]\n",
        "for i in adj:\n",
        "  for j in fruits:\n",
        "    print(f\"{i} {j}\")"
      ],
      "metadata": {
        "colab": {
          "base_uri": "https://localhost:8080/"
        },
        "id": "fqjQBKKfyN3_",
        "outputId": "ba023cd3-4f52-44d4-b0aa-ed8d570f1b85"
      },
      "execution_count": null,
      "outputs": [
        {
          "output_type": "stream",
          "name": "stdout",
          "text": [
            "red apple\n",
            "red banana\n",
            "red cherry\n",
            "big apple\n",
            "big banana\n",
            "big cherry\n",
            "tasty apple\n",
            "tasty banana\n",
            "tasty cherry\n"
          ]
        }
      ]
    },
    {
      "cell_type": "code",
      "source": [
        "a=int(input(\"enter a number\"))\n",
        "if a<2:\n",
        "  print(f\"{a} not prime no\")\n",
        "else:\n",
        "  is_prime = False\n",
        "  for i in range(2,a):\n",
        "    if(a%i== 0):\n",
        "      is_prime = True\n",
        "      break\n",
        "  if is_prime:\n",
        "    print(f\"{a} is not prime\")\n",
        "  else:\n",
        "    print(f\"{a} is prime\")"
      ],
      "metadata": {
        "id": "8RKo-8Epysce",
        "colab": {
          "base_uri": "https://localhost:8080/"
        },
        "outputId": "b770eda5-0b5a-47c6-a7de-d25ce98265d3"
      },
      "execution_count": 2,
      "outputs": [
        {
          "output_type": "stream",
          "name": "stdout",
          "text": [
            "enter a number50\n",
            "50 is not prime\n"
          ]
        }
      ]
    },
    {
      "cell_type": "code",
      "source": [
        "txt=\"the best things in life are free\"\n",
        "txt[5]\n"
      ],
      "metadata": {
        "colab": {
          "base_uri": "https://localhost:8080/",
          "height": 35
        },
        "id": "-wDgVsy0ynIN",
        "outputId": "65538920-ac6d-4b58-f68d-f05e0a5d600e"
      },
      "execution_count": 2,
      "outputs": [
        {
          "output_type": "execute_result",
          "data": {
            "text/plain": [
              "'e'"
            ],
            "application/vnd.google.colaboratory.intrinsic+json": {
              "type": "string"
            }
          },
          "metadata": {},
          "execution_count": 2
        }
      ]
    },
    {
      "cell_type": "code",
      "source": [
        "txt[5:10]\n",
        "txt[-4:-1]# slicing examples"
      ],
      "metadata": {
        "colab": {
          "base_uri": "https://localhost:8080/",
          "height": 35
        },
        "id": "KExWJq0C2ZdV",
        "outputId": "9ea864e9-754d-4da2-b5c6-276da86863d4"
      },
      "execution_count": 8,
      "outputs": [
        {
          "output_type": "execute_result",
          "data": {
            "text/plain": [
              "'fre'"
            ],
            "application/vnd.google.colaboratory.intrinsic+json": {
              "type": "string"
            }
          },
          "metadata": {},
          "execution_count": 8
        }
      ]
    },
    {
      "cell_type": "code",
      "source": [
        "txt.upper()"
      ],
      "metadata": {
        "colab": {
          "base_uri": "https://localhost:8080/",
          "height": 35
        },
        "id": "FtmlrOi63Kpd",
        "outputId": "b401f036-ef48-4ea2-f812-6b72f0bce333"
      },
      "execution_count": 9,
      "outputs": [
        {
          "output_type": "execute_result",
          "data": {
            "text/plain": [
              "'THE BEST THINGS IN LIFE ARE FREE'"
            ],
            "application/vnd.google.colaboratory.intrinsic+json": {
              "type": "string"
            }
          },
          "metadata": {},
          "execution_count": 9
        }
      ]
    },
    {
      "cell_type": "code",
      "source": [
        "\"amal reju joseph\".title()"
      ],
      "metadata": {
        "colab": {
          "base_uri": "https://localhost:8080/",
          "height": 35
        },
        "id": "d2QhoSHw3O2b",
        "outputId": "24bd7327-9e7e-4392-9a10-a66a3f902aa7"
      },
      "execution_count": 10,
      "outputs": [
        {
          "output_type": "execute_result",
          "data": {
            "text/plain": [
              "'Amal Reju Joseph'"
            ],
            "application/vnd.google.colaboratory.intrinsic+json": {
              "type": "string"
            }
          },
          "metadata": {},
          "execution_count": 10
        }
      ]
    },
    {
      "cell_type": "code",
      "source": [
        "a=\"#hello world \"\n",
        "a.strip(\"#\")#to remove elements or characters from front and back"
      ],
      "metadata": {
        "colab": {
          "base_uri": "https://localhost:8080/",
          "height": 35
        },
        "id": "c7FKsQM-3j_l",
        "outputId": "82a0640a-8c7c-440f-9bd1-e9a8271d1883"
      },
      "execution_count": 14,
      "outputs": [
        {
          "output_type": "execute_result",
          "data": {
            "text/plain": [
              "'hello world '"
            ],
            "application/vnd.google.colaboratory.intrinsic+json": {
              "type": "string"
            }
          },
          "metadata": {},
          "execution_count": 14
        }
      ]
    },
    {
      "cell_type": "code",
      "source": [
        "a.count(\"world\")#count strings and substrings"
      ],
      "metadata": {
        "colab": {
          "base_uri": "https://localhost:8080/"
        },
        "id": "-UDktfna31zL",
        "outputId": "8b08cd57-4c63-4d6c-d8b7-2756862a7c80"
      },
      "execution_count": 15,
      "outputs": [
        {
          "output_type": "execute_result",
          "data": {
            "text/plain": [
              "1"
            ]
          },
          "metadata": {},
          "execution_count": 15
        }
      ]
    },
    {
      "cell_type": "code",
      "source": [
        "a.split(\"o\")"
      ],
      "metadata": {
        "colab": {
          "base_uri": "https://localhost:8080/"
        },
        "id": "TLrBC6co4Jer",
        "outputId": "9c986be8-0045-4e68-e648-8ab1ede99361"
      },
      "execution_count": 17,
      "outputs": [
        {
          "output_type": "execute_result",
          "data": {
            "text/plain": [
              "['#hell', ' w', 'rld ']"
            ]
          },
          "metadata": {},
          "execution_count": 17
        }
      ]
    },
    {
      "cell_type": "code",
      "source": [
        "txt=\"hello 4 world 10\"\n",
        "l=txt.split()\n",
        "for j in l:\n",
        "    if j.isnumeric():\n",
        "      print(j)"
      ],
      "metadata": {
        "colab": {
          "base_uri": "https://localhost:8080/"
        },
        "id": "GGqXEu9cm4Q0",
        "outputId": "e34408ce-9458-4a35-8e88-1d9238472b18"
      },
      "execution_count": 23,
      "outputs": [
        {
          "output_type": "stream",
          "name": "stdout",
          "text": [
            "4\n",
            "10\n"
          ]
        }
      ]
    },
    {
      "cell_type": "code",
      "source": [
        "l=[\"apple\",\"banana\",\"cherry\"]\n",
        "l.append([\"mango\"])\n",
        "print(l)"
      ],
      "metadata": {
        "colab": {
          "base_uri": "https://localhost:8080/"
        },
        "id": "yT9iF21DoDcl",
        "outputId": "a0f8b7e4-9642-4a4b-fc0b-0729be4681a3"
      },
      "execution_count": 2,
      "outputs": [
        {
          "output_type": "stream",
          "name": "stdout",
          "text": [
            "['apple', 'banana', 'cherry', ['mango']]\n"
          ]
        }
      ]
    },
    {
      "cell_type": "code",
      "source": [
        "l=[\"apple\",\"banana\",\"cherry\"]\n",
        "l.insert(1,\"watermelon\")\n",
        "print(l)"
      ],
      "metadata": {
        "colab": {
          "base_uri": "https://localhost:8080/"
        },
        "id": "bZkSp7BoKxgm",
        "outputId": "3282c148-0ef1-4ded-f1a1-7999a731f3f1"
      },
      "execution_count": 3,
      "outputs": [
        {
          "output_type": "stream",
          "name": "stdout",
          "text": [
            "['apple', 'watermelon', 'banana', 'cherry']\n"
          ]
        }
      ]
    },
    {
      "cell_type": "code",
      "source": [
        "\n",
        "l=[\"apple\",\"banana\",\"cherry\"]\n",
        "m=[\"mango\",\"pineapple\"]\n",
        "\n",
        "n=l+m\n",
        "print(n)\n",
        "l.extend(m)\n",
        "print(l)"
      ],
      "metadata": {
        "colab": {
          "base_uri": "https://localhost:8080/"
        },
        "id": "2FlXjsmGK4vb",
        "outputId": "c8c381f0-5254-4ce4-fb5a-7aa50da3edd1"
      },
      "execution_count": 7,
      "outputs": [
        {
          "output_type": "stream",
          "name": "stdout",
          "text": [
            "['apple', 'banana', 'cherry', 'mango', 'pineapple']\n",
            "['apple', 'banana', 'cherry', 'mango', 'pineapple']\n"
          ]
        }
      ]
    },
    {
      "cell_type": "code",
      "source": [
        "l=[\"apple\",\"banana\",\"cherry\"]\n",
        "l.pop(1)\n",
        "#print(l)"
      ],
      "metadata": {
        "colab": {
          "base_uri": "https://localhost:8080/",
          "height": 35
        },
        "id": "pzzTQ4aWLss-",
        "outputId": "162f9a6d-a61a-4db8-e118-15d56a80752d"
      },
      "execution_count": 9,
      "outputs": [
        {
          "output_type": "execute_result",
          "data": {
            "text/plain": [
              "'banana'"
            ],
            "application/vnd.google.colaboratory.intrinsic+json": {
              "type": "string"
            }
          },
          "metadata": {},
          "execution_count": 9
        }
      ]
    },
    {
      "cell_type": "markdown",
      "source": [
        "**tuple**"
      ],
      "metadata": {
        "id": "las2uidKNqbg"
      }
    },
    {
      "cell_type": "code",
      "source": [
        "mytuple = (\"mango\",\"apple\",\"banana\",\"cherry\")\n",
        "print(mytuple)"
      ],
      "metadata": {
        "colab": {
          "base_uri": "https://localhost:8080/"
        },
        "id": "etoiGEjMNovS",
        "outputId": "4ebcda49-57a2-4295-a22a-0c5fa6732786"
      },
      "execution_count": 10,
      "outputs": [
        {
          "output_type": "stream",
          "name": "stdout",
          "text": [
            "('mango', 'apple', 'banana', 'cherry')\n"
          ]
        }
      ]
    },
    {
      "cell_type": "markdown",
      "source": [
        "# **tuples are unchangable and we have to change it to list**"
      ],
      "metadata": {
        "id": "hPqi7UGxOKFj"
      }
    },
    {
      "cell_type": "code",
      "source": [
        "x=(\"mango\",\"apple\",\"banana\",\"cherry\")\n",
        "y=list(x)\n",
        "y[1]='kiwi'\n",
        "x=tuple(y)\n",
        "print(x)"
      ],
      "metadata": {
        "colab": {
          "base_uri": "https://localhost:8080/"
        },
        "id": "m1l_lW6zOVdn",
        "outputId": "899f36f0-dc2e-4105-9dc8-41467bfc7e4e"
      },
      "execution_count": 11,
      "outputs": [
        {
          "output_type": "stream",
          "name": "stdout",
          "text": [
            "('mango', 'kiwi', 'banana', 'cherry')\n"
          ]
        }
      ]
    },
    {
      "cell_type": "code",
      "source": [
        "#tuple can we concatinated\n",
        "x=(\"mango\",\"apple\",\"banana\",\"cherry\")\n",
        "y=(\"orange\",)\n",
        "x += y\n",
        "print(x)"
      ],
      "metadata": {
        "colab": {
          "base_uri": "https://localhost:8080/"
        },
        "id": "a8D_wclIOxQ2",
        "outputId": "f5e26db5-9a87-4359-92d2-8ce897d13eac"
      },
      "execution_count": 13,
      "outputs": [
        {
          "output_type": "stream",
          "name": "stdout",
          "text": [
            "('mango', 'apple', 'banana', 'cherry', 'orange')\n"
          ]
        }
      ]
    },
    {
      "cell_type": "code",
      "source": [
        "x=(\"mango\",\"apple\",\"banana\",\"cherry\")\n",
        "if \"apple\" in x:\n",
        "  print(\"yes 'apple' is int the tuple\")"
      ],
      "metadata": {
        "colab": {
          "base_uri": "https://localhost:8080/"
        },
        "id": "hCm7XpuMPeVL",
        "outputId": "95f10d39-542c-44da-c28b-2e566dac7962"
      },
      "execution_count": 14,
      "outputs": [
        {
          "output_type": "stream",
          "name": "stdout",
          "text": [
            "yes 'apple' is int the tuple\n"
          ]
        }
      ]
    },
    {
      "cell_type": "code",
      "source": [],
      "metadata": {
        "id": "dlSlFBRYyW0c"
      },
      "execution_count": null,
      "outputs": []
    }
  ]
}