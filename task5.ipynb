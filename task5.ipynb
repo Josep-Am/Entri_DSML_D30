{
  "nbformat": 4,
  "nbformat_minor": 0,
  "metadata": {
    "colab": {
      "provenance": [],
      "authorship_tag": "ABX9TyPFdf8XAyK8jG0sDT8jojZH",
      "include_colab_link": true
    },
    "kernelspec": {
      "name": "python3",
      "display_name": "Python 3"
    },
    "language_info": {
      "name": "python"
    }
  },
  "cells": [
    {
      "cell_type": "markdown",
      "metadata": {
        "id": "view-in-github",
        "colab_type": "text"
      },
      "source": [
        "<a href=\"https://colab.research.google.com/github/Josep-Am/Entri_DSML_D30/blob/main/task5.ipynb\" target=\"_parent\"><img src=\"https://colab.research.google.com/assets/colab-badge.svg\" alt=\"Open In Colab\"/></a>"
      ]
    },
    {
      "cell_type": "markdown",
      "source": [
        "# TASK 5\n",
        "\n",
        "1.  Write a Python program to create a class representing a Circle. Include methods to calculate its area and perimeter.\n",
        "\n"
      ],
      "metadata": {
        "id": "JPVh6T9NxIOX"
      }
    },
    {
      "cell_type": "code",
      "source": [
        "class circle:\n",
        "    def __init__(self,r):\n",
        "        self.r=r\n",
        "    def area(self):\n",
        "        return self.r*3.14*self.r\n",
        "    def perimeter(self):\n",
        "        return self.r*2*3.14\n",
        "\n",
        "r=int(input(\"Enter the Radius of the circle:\"))\n",
        "obj = circle(r)\n",
        "print(\"Area of the circle is:  \",obj.area() )\n",
        "print  (\"Perimeter of the circle is:  \",obj.perimeter())"
      ],
      "metadata": {
        "colab": {
          "base_uri": "https://localhost:8080/"
        },
        "id": "60fQZViSxWvO",
        "outputId": "04509d15-18c6-4d16-fe4c-fad988360e9a"
      },
      "execution_count": 12,
      "outputs": [
        {
          "output_type": "stream",
          "name": "stdout",
          "text": [
            "Enter the Radius of the circle:5\n",
            "Area of the circle is:   78.5\n",
            "Perimeter of the circle is:   31.400000000000002\n"
          ]
        }
      ]
    },
    {
      "cell_type": "markdown",
      "source": [
        "2. Write a Python program to create a calculator class. Include methods for basic arithmetic operations.\n"
      ],
      "metadata": {
        "id": "yg0FOWL71lDv"
      }
    },
    {
      "cell_type": "code",
      "source": [
        "class Calc:\n",
        "  def __init__(self,a,b):\n",
        "    self.a=a\n",
        "    self.b=b\n",
        "  def sum(self):\n",
        "    return self.a+self.b\n",
        "  def sub(self):\n",
        "    return self.a-self.b\n",
        "  def mul(self):\n",
        "    return self.a*self.b\n",
        "  def div(self):\n",
        "    return self.a/self.b\n",
        "\n",
        "a=int(input(\"Enter the first number:\"))\n",
        "b=int(input(\"Enter the second number:\"))\n",
        "obj=Calc(a,b)\n",
        "print(\"1. Addition\")\n",
        "print(\"2. Subtraction\")\n",
        "print(\"3. Multiplication\")\n",
        "print(\"4. Division\")\n",
        "choice=int(input(\"Enter your choice:\"))\n",
        "if choice==1:\n",
        "  print(\"Sum of two numbers is:\",obj.sum())\n",
        "elif choice==2:\n",
        "    print(\"Subtraction of two numbers is:\",obj.sub())\n",
        "elif choice==3:\n",
        "    print(\"Multiplication of two numbers is:\",obj.mul())\n",
        "elif choice==4:\n",
        "    print(\"Division of two numbers is:\",obj.div())\n",
        "else:\n",
        "    print(\"Invalid choice\")\n"
      ],
      "metadata": {
        "colab": {
          "base_uri": "https://localhost:8080/"
        },
        "id": "L1G4H-eA1reB",
        "outputId": "b6f0dd19-38ba-4c3c-c596-81ed7ac9837b"
      },
      "execution_count": 7,
      "outputs": [
        {
          "output_type": "stream",
          "name": "stdout",
          "text": [
            "Enter the first number:5\n",
            "Enter the second number:9\n",
            "1. Addition\n",
            "2. Subtraction\n",
            "3. Multiplication\n",
            "4. Division\n",
            "Enter your choice:4\n",
            "Division of two numbers is: 0.5555555555555556\n"
          ]
        }
      ]
    },
    {
      "cell_type": "markdown",
      "source": [
        "3. Write a Python program to create a class that represents a shape. Include methods to calculate its area and perimeter. Implement subclasses for different shapes like circle, triangle, and square."
      ],
      "metadata": {
        "id": "TbhVxUw2js-m"
      }
    },
    {
      "cell_type": "code",
      "source": [
        "import math\n",
        "\n",
        "class circle():\n",
        "  def __init__(self,radius):\n",
        "    self.radius=radius\n",
        "  def area(self):\n",
        "    return 3.14*self.radius**2\n",
        "  def perimeter(self):\n",
        "    return 2*3.14*self.radius\n",
        "class triangle():\n",
        "  def __init__(self,side1,side2,side3):\n",
        "    self.side1=side1\n",
        "    self.side2=side2\n",
        "    self.side3=side3\n",
        "  def area(self):\n",
        "    s=(self.side1+self.side2+self.side3)/2\n",
        "    return math.sqrt(s*(s-self.side1)*(s-self.side2)*(s-self.side3))\n",
        "  def perimeter(self):\n",
        "    return self.side1+self.side2+self.side3\n",
        "class square():\n",
        "  def __init__(self,side):\n",
        "    self.side=side\n",
        "  def area(self):\n",
        "    return self.side**2\n",
        "  def perimeter(self):\n",
        "    return 4*self.side\n",
        "print(\"Area and perimeter\")\n",
        "print(\"1.Circle\")\n",
        "r=int(input(\"Enter the radius of the circle :\"))\n",
        "cir=circle(r)\n",
        "print(\"Area of the circle is:\", cir.area())\n",
        "print(\"Perimeter of the circle is:\", cir.perimeter())\n",
        "print(\"2.Triangle\")\n",
        "s1=int(input(\"Enter the side 1 of the triangle :\"))\n",
        "s2=int(input(\"Enter the side 2 of the triangle :\"))\n",
        "s3=int(input(\"Enter the side 3 of the triangle :\"))\n",
        "tri=triangle(s1,s2,s3)\n",
        "print(\"Area of the triangle is:\", tri.area())\n",
        "print(\"Perimeter of the triangle is:\", tri.perimeter())\n",
        "print(\"4.Square\")\n",
        "s=int(input(\"Enter the side of the square :\"))\n",
        "sqr=square(s)\n",
        "print(f\"Area of the square is:\", sqr.area())\n",
        "print(f\"Perimeter of the square is:\", sqr.perimeter())"
      ],
      "metadata": {
        "colab": {
          "base_uri": "https://localhost:8080/"
        },
        "id": "lwYiH5pPr7mc",
        "outputId": "75be4894-0c1f-49cb-bb98-7d8754171e51"
      },
      "execution_count": 10,
      "outputs": [
        {
          "output_type": "stream",
          "name": "stdout",
          "text": [
            "Area and perimeter\n",
            "1.Circle\n",
            "Enter the radius of the circle :5\n",
            "Area of the circle is: 78.5\n",
            "Perimeter of the circle is: 31.400000000000002\n",
            "2.Triangle\n",
            "Enter the side 1 of the triangle :5\n",
            "Enter the side 2 of the triangle :5\n",
            "Enter the side 3 of the triangle :5\n",
            "Area of the triangle is: 10.825317547305483\n",
            "Perimeter of the triangle is: 15\n",
            "4.Square\n",
            "Enter the side of the square :5\n",
            "Area of the square is: 25\n",
            "Perimeter of the square is: 20\n"
          ]
        }
      ]
    }
  ]
}