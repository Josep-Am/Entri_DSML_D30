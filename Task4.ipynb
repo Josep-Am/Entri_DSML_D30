{
  "nbformat": 4,
  "nbformat_minor": 0,
  "metadata": {
    "colab": {
      "provenance": [],
      "authorship_tag": "ABX9TyMSDMlv6CvDnZ5VU65Ak8cL",
      "include_colab_link": true
    },
    "kernelspec": {
      "name": "python3",
      "display_name": "Python 3"
    },
    "language_info": {
      "name": "python"
    }
  },
  "cells": [
    {
      "cell_type": "markdown",
      "metadata": {
        "id": "view-in-github",
        "colab_type": "text"
      },
      "source": [
        "<a href=\"https://colab.research.google.com/github/Josep-Am/Entri_DSML_D30/blob/main/Task4.ipynb\" target=\"_parent\"><img src=\"https://colab.research.google.com/assets/colab-badge.svg\" alt=\"Open In Colab\"/></a>"
      ]
    },
    {
      "cell_type": "markdown",
      "source": [
        "1. Write a program to create a function show_employee() using the\n",
        "   following conditions.\n",
        "* It should accept the employee’s name and salary and display both.\n",
        "* If the salary is missing in the function call then assign default value\n",
        "  9000 to salary\n"
      ],
      "metadata": {
        "id": "50Stca6UsyNA"
      }
    },
    {
      "cell_type": "code",
      "source": [
        "def show_employee(name,salary=9000):\n",
        "    print(f'Employee name is {name} and salary is {salary}')\n",
        "show_employee(\"ben\",12000)\n",
        "show_employee(\"Jessica\")"
      ],
      "metadata": {
        "colab": {
          "base_uri": "https://localhost:8080/"
        },
        "id": "nXyFNYWHs5l4",
        "outputId": "6a5b78aa-2083-4871-a2aa-496111bccdb4"
      },
      "execution_count": 1,
      "outputs": [
        {
          "output_type": "stream",
          "name": "stdout",
          "text": [
            "Employee name is ben and salary is 12000\n",
            "Employee name is Jessica and salary is 9000\n"
          ]
        }
      ]
    },
    {
      "cell_type": "markdown",
      "source": [
        "2.Create an outer function that will accept two parameters, a and b Create an inner function inside an outer function that will calculate the addition of a and b At last, an outer function will add 5 into addition and return it"
      ],
      "metadata": {
        "id": "cKbfGHlqskZo"
      }
    },
    {
      "cell_type": "code",
      "source": [
        "def outer_function(a,b):\n",
        "    def inner_function(a,b):\n",
        "        return a+b\n",
        "    return inner_function(a,b)+5\n",
        "outer_function(2,3)"
      ],
      "metadata": {
        "colab": {
          "base_uri": "https://localhost:8080/"
        },
        "id": "h9E4Drfytmfw",
        "outputId": "79d96749-609e-46f1-f2a1-6aac6a4e63a1"
      },
      "execution_count": 4,
      "outputs": [
        {
          "output_type": "execute_result",
          "data": {
            "text/plain": [
              "10"
            ]
          },
          "metadata": {},
          "execution_count": 4
        }
      ]
    },
    {
      "cell_type": "markdown",
      "source": [
        "3.Generate a Python list of all the even numbers between 4 to 30"
      ],
      "metadata": {
        "id": "GvJVNKOKt4XO"
      }
    },
    {
      "cell_type": "code",
      "source": [
        "x=[i for i in range(4,30) if i%2==0]\n",
        "print(x)\n"
      ],
      "metadata": {
        "colab": {
          "base_uri": "https://localhost:8080/"
        },
        "id": "RhSuRrTjt-De",
        "outputId": "ccb85975-4e0e-4da3-ac40-08854beda7cd"
      },
      "execution_count": 9,
      "outputs": [
        {
          "output_type": "stream",
          "name": "stdout",
          "text": [
            "[4, 6, 8, 10, 12, 14, 16, 18, 20, 22, 24, 26, 28]\n"
          ]
        }
      ]
    },
    {
      "cell_type": "markdown",
      "source": [
        "4. Given a list, the task is to write a Python program to check if the value exists in the list or not using the lambda function."
      ],
      "metadata": {
        "id": "lXvmBsaOuyAr"
      }
    },
    {
      "cell_type": "code",
      "source": [
        "L=[1,2,3,4,5,6]\n",
        "search=int(input(\"Enter the number to search:  \"))\n",
        "result=filter(lambda x:x==search,L)\n",
        "if (list(result)):\n",
        "    print(f\"{search} is Found\")\n",
        "else:\n",
        "    print(f\"{search} Not Found\")"
      ],
      "metadata": {
        "colab": {
          "base_uri": "https://localhost:8080/"
        },
        "id": "Ue7RfEVSu0OC",
        "outputId": "da14eee2-413d-4666-b5cd-1acdc377decb"
      },
      "execution_count": 11,
      "outputs": [
        {
          "output_type": "stream",
          "name": "stdout",
          "text": [
            "Enter the number to search:  8\n",
            "8 Not Found\n"
          ]
        }
      ]
    },
    {
      "cell_type": "markdown",
      "source": [
        "5. Sort the points based on their sum of elements in the tuples\n",
        "\n",
        "points = [(1, 2), (5, 3), (0, 7), (3, 1)]"
      ],
      "metadata": {
        "id": "2OO6lgpTwRGt"
      }
    },
    {
      "cell_type": "code",
      "source": [
        "points= [(1, 2), (5, 3), (0, 7), (3, 1)]\n",
        "points.sort(key=lambda x:sum(x))\n",
        "print(points)"
      ],
      "metadata": {
        "colab": {
          "base_uri": "https://localhost:8080/"
        },
        "id": "SOla1q8EwhKT",
        "outputId": "7b026178-bc6d-4993-e422-68cefd01a8e9"
      },
      "execution_count": 12,
      "outputs": [
        {
          "output_type": "stream",
          "name": "stdout",
          "text": [
            "[(1, 2), (3, 1), (0, 7), (5, 3)]\n"
          ]
        }
      ]
    },
    {
      "cell_type": "markdown",
      "source": [
        "6. Write a python function, which will find all such numbers between 1000 and 3000 (both included) such that each digit of the number is an even number. Return the results as a list"
      ],
      "metadata": {
        "id": "bR55nvjz92SI"
      }
    },
    {
      "cell_type": "code",
      "source": [
        "def even_num():\n",
        "  result=[]\n",
        "  for i in range(1000,3001):\n",
        "    y=[int(x) for x in str(i)]\n",
        "    if all(i%2==0 for i in y):\n",
        "      result.append(i)\n",
        "  return result\n",
        "output=even_num()\n",
        "print(output)\n",
        "\n",
        "\n"
      ],
      "metadata": {
        "colab": {
          "base_uri": "https://localhost:8080/"
        },
        "id": "jOzfvk3N-EQ5",
        "outputId": "a2ad00cf-22ec-4810-d97f-48ea4dab2e50"
      },
      "execution_count": 14,
      "outputs": [
        {
          "output_type": "stream",
          "name": "stdout",
          "text": [
            "[2000, 2002, 2004, 2006, 2008, 2020, 2022, 2024, 2026, 2028, 2040, 2042, 2044, 2046, 2048, 2060, 2062, 2064, 2066, 2068, 2080, 2082, 2084, 2086, 2088, 2200, 2202, 2204, 2206, 2208, 2220, 2222, 2224, 2226, 2228, 2240, 2242, 2244, 2246, 2248, 2260, 2262, 2264, 2266, 2268, 2280, 2282, 2284, 2286, 2288, 2400, 2402, 2404, 2406, 2408, 2420, 2422, 2424, 2426, 2428, 2440, 2442, 2444, 2446, 2448, 2460, 2462, 2464, 2466, 2468, 2480, 2482, 2484, 2486, 2488, 2600, 2602, 2604, 2606, 2608, 2620, 2622, 2624, 2626, 2628, 2640, 2642, 2644, 2646, 2648, 2660, 2662, 2664, 2666, 2668, 2680, 2682, 2684, 2686, 2688, 2800, 2802, 2804, 2806, 2808, 2820, 2822, 2824, 2826, 2828, 2840, 2842, 2844, 2846, 2848, 2860, 2862, 2864, 2866, 2868, 2880, 2882, 2884, 2886, 2888]\n"
          ]
        }
      ]
    },
    {
      "cell_type": "markdown",
      "source": [
        "7.Write a python function that accepts a sentence and calculate and return the number of letters and digits."
      ],
      "metadata": {
        "id": "z_CaPIsV__W1"
      }
    },
    {
      "cell_type": "code",
      "source": [
        "def count(s):\n",
        "  letters=0\n",
        "  digit=0\n",
        "  for i in s:\n",
        "    if i.isalpha():\n",
        "      letters+=1\n",
        "    elif i.isdigit():\n",
        "      digit+=1\n",
        "  return letters,digit\n",
        "\n",
        "s=input(\"Enter the string:  \")\n",
        "letters,digit=count(s)\n",
        "print(f\"letters={letters}\")\n",
        "print(f\"digits={digit}\")"
      ],
      "metadata": {
        "colab": {
          "base_uri": "https://localhost:8080/"
        },
        "id": "ROd5PdkAAE6W",
        "outputId": "2ee7859a-90b8-4031-b7c0-569713718285"
      },
      "execution_count": 24,
      "outputs": [
        {
          "output_type": "stream",
          "name": "stdout",
          "text": [
            "Enter the string:  How are you, 123141\n",
            "letters=9\n",
            "digits=6\n"
          ]
        }
      ]
    },
    {
      "cell_type": "markdown",
      "source": [
        "8.Write a Python program to convert all the characters into uppercase and lowercase and eliminate duplicate letters from a given sequence. Use the map() function"
      ],
      "metadata": {
        "id": "bp7fSQMzCUwd"
      }
    },
    {
      "cell_type": "code",
      "source": [
        "\n",
        "def convert(sentence):\n",
        "  upper=map(str.upper,sentence)\n",
        "  lower=map(str.lower,sentence)\n",
        "  uniquechars=set(upper)|set(lower)\n",
        "  return uniquechars\n",
        "sentence=\"Hello world\"\n",
        "result=convert(sentence)\n",
        "print(f\"unique characters : {result}\")"
      ],
      "metadata": {
        "colab": {
          "base_uri": "https://localhost:8080/"
        },
        "id": "WOlV3rNGCadB",
        "outputId": "d7d83621-c91e-4205-86ef-6e527b3a6adb"
      },
      "execution_count": 26,
      "outputs": [
        {
          "output_type": "stream",
          "name": "stdout",
          "text": [
            "unique characters : {'w', 'W', 'H', 'd', 'h', 'E', 'D', 'r', ' ', 'O', 'L', 'e', 'o', 'R', 'l'}\n"
          ]
        }
      ]
    },
    {
      "cell_type": "markdown",
      "source": [
        "9. Write a Python program to element wise add two given lists and find the difference between them. Use the map() function"
      ],
      "metadata": {
        "id": "NdKqF7Z1DbDi"
      }
    },
    {
      "cell_type": "code",
      "source": [
        "def add_sub(list1,list2):\n",
        "  add=map(lambda x,y:x+y,list1,list2)\n",
        "  sub=map(lambda x,y:x-y,list1,list2)\n",
        "  return add,sub\n",
        "list1=[1,2,3,4,5]\n",
        "list2=[6,7,8,9,10]\n",
        "add,sub=add_sub(list1,list2)\n",
        "print(f\"The addition of the two list :{list(add)}\")\n",
        "print(f\"The difference of the two list :{list(sub)}\")"
      ],
      "metadata": {
        "colab": {
          "base_uri": "https://localhost:8080/"
        },
        "id": "TUZZkAu5Dgur",
        "outputId": "e66316c2-0b32-4eb0-f4ed-752c028e0dc9"
      },
      "execution_count": 31,
      "outputs": [
        {
          "output_type": "stream",
          "name": "stdout",
          "text": [
            "The addition of the two list :[7, 9, 11, 13, 15]\n",
            "The difference of the two list :[-5, -5, -5, -5, -5]\n"
          ]
        }
      ]
    },
    {
      "cell_type": "markdown",
      "source": [
        "10.Write a Python program to filter the height and weight of students, which are stored in a dictionary using lambda"
      ],
      "metadata": {
        "id": "sd6hAERbGFeb"
      }
    },
    {
      "cell_type": "code",
      "source": [
        "my_dict={'Cierra Vega': (6.2, 71), 'Alden Cantrell': (5.9, 65), 'Kierra Gentry': (6.0, 68), 'Pierre Cox': (5.8, 66)}\n",
        "new_dict=filter(lambda x:x[1][0]>=6 and x[1][1]>=70,my_dict.items())\n",
        "new_dict_list = list(new_dict)\n",
        "result_dict = {k: v for k, v in new_dict_list}\n",
        "print(f\"height greter than 6ft and weight greater than 70kg :{result_dict}\")"
      ],
      "metadata": {
        "colab": {
          "base_uri": "https://localhost:8080/"
        },
        "id": "PYnvzaqyGFIz",
        "outputId": "7333abdd-2a23-4b25-ab3e-a273fb010631"
      },
      "execution_count": 39,
      "outputs": [
        {
          "output_type": "stream",
          "name": "stdout",
          "text": [
            "height greter than 6ft and weight greater than 70kg :{'Cierra Vega': (6.2, 71)}\n"
          ]
        }
      ]
    },
    {
      "cell_type": "markdown",
      "source": [
        "11.Write a Python program to remove all elements from a given list present in another list using lambda."
      ],
      "metadata": {
        "id": "Z1fmT52-ImZP"
      }
    },
    {
      "cell_type": "code",
      "source": [
        "l1=[1,2,3,4,5,6,7,8,9,10]\n",
        "l2=[2,4,6,8]\n",
        "result=list(filter(lambda x:x not in l2,l1))\n",
        "print(result)"
      ],
      "metadata": {
        "colab": {
          "base_uri": "https://localhost:8080/"
        },
        "id": "d0A_dBeEIqER",
        "outputId": "2601f1cc-5aae-48a9-8774-1829520fb491"
      },
      "execution_count": 40,
      "outputs": [
        {
          "output_type": "stream",
          "name": "stdout",
          "text": [
            "[1, 3, 5, 7, 9, 10]\n"
          ]
        }
      ]
    },
    {
      "cell_type": "markdown",
      "source": [
        "12.Write a Python program to calculate the product of a given list of numbers using lambda."
      ],
      "metadata": {
        "id": "SM1w73-5I3cK"
      }
    },
    {
      "cell_type": "code",
      "source": [
        "l1=[1,2,3,4,5]\n",
        "import functools\n",
        "result=functools.reduce(lambda x,y:x*y,l1)\n",
        "print(result)"
      ],
      "metadata": {
        "colab": {
          "base_uri": "https://localhost:8080/"
        },
        "id": "4_zJ-IZUJAR2",
        "outputId": "b61dfd22-b187-465b-9b16-4e27a4d6d284"
      },
      "execution_count": 42,
      "outputs": [
        {
          "output_type": "stream",
          "name": "stdout",
          "text": [
            "120\n"
          ]
        }
      ]
    },
    {
      "cell_type": "markdown",
      "source": [
        "13. Write a Python program to multiply all the numbers in a given list using lambda"
      ],
      "metadata": {
        "id": "-yIgZZxPJV4S"
      }
    },
    {
      "cell_type": "code",
      "source": [
        "l1=[1,2,3,4,5]\n",
        "result=functools.reduce(lambda x,y:x*y,l1)\n",
        "print(result)"
      ],
      "metadata": {
        "colab": {
          "base_uri": "https://localhost:8080/"
        },
        "id": "1kvA8tNYJnfe",
        "outputId": "64a58621-acea-4319-93df-4eca9318b74e"
      },
      "execution_count": 43,
      "outputs": [
        {
          "output_type": "stream",
          "name": "stdout",
          "text": [
            "120\n"
          ]
        }
      ]
    },
    {
      "cell_type": "markdown",
      "source": [],
      "metadata": {
        "id": "TPewEKrcJroq"
      }
    }
  ]
}