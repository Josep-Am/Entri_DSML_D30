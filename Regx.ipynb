{
  "nbformat": 4,
  "nbformat_minor": 0,
  "metadata": {
    "colab": {
      "provenance": [],
      "authorship_tag": "ABX9TyOCXVZbBkKZGWsT7sIfvC7z",
      "include_colab_link": true
    },
    "kernelspec": {
      "name": "python3",
      "display_name": "Python 3"
    },
    "language_info": {
      "name": "python"
    }
  },
  "cells": [
    {
      "cell_type": "markdown",
      "metadata": {
        "id": "view-in-github",
        "colab_type": "text"
      },
      "source": [
        "<a href=\"https://colab.research.google.com/github/Josep-Am/Entri_DSML_D30/blob/main/Regx.ipynb\" target=\"_parent\"><img src=\"https://colab.research.google.com/assets/colab-badge.svg\" alt=\"Open In Colab\"/></a>"
      ]
    },
    {
      "cell_type": "markdown",
      "source": [
        "1. Write a Python program to check that a string contains only a certain set of characters (in this case a-z, A-Z and 0-9).\n"
      ],
      "metadata": {
        "id": "0KTpBFZOzo77"
      }
    },
    {
      "cell_type": "code",
      "execution_count": null,
      "metadata": {
        "colab": {
          "base_uri": "https://localhost:8080/"
        },
        "id": "6aXMe9L1zcK5",
        "outputId": "660ae755-efc7-40b8-b623-fd9f821c68e2"
      },
      "outputs": [
        {
          "output_type": "stream",
          "name": "stdout",
          "text": [
            "enter the text to search:!@#$\n",
            "The text !@#$ does not contain a-z, A-Z and 0-9\n"
          ]
        }
      ],
      "source": [
        "import re\n",
        "txt=input(\"enter the text to search:\")\n",
        "x=re.search(r'[a-zA-Z0-0]',txt)\n",
        "if x:\n",
        "  print(f\"The text {txt} contains a-z, A-Z and 0-9\")\n",
        "else:\n",
        "  print(f\"The text {txt} does not contain a-z, A-Z and 0-9\")"
      ]
    },
    {
      "cell_type": "markdown",
      "source": [
        "2. Write a Python program that matches a string that has an a followed by zero or more b's.\n",
        "\n"
      ],
      "metadata": {
        "id": "ZOxHKBkWzetv"
      }
    },
    {
      "cell_type": "code",
      "source": [
        "import re\n",
        "txt=input(\"enter the text to search:\")\n",
        "x=re.search(r'ab*',txt)\n",
        "if x:\n",
        "  print(f\"The text {txt} has an a followed by zero or more b's\")\n",
        "else:\n",
        "  print(f\"The text {txt} does not have an a followed by zero or more b's\")"
      ],
      "metadata": {
        "colab": {
          "base_uri": "https://localhost:8080/"
        },
        "id": "iz9V46ZGzvyq",
        "outputId": "e0452355-e9c7-4c43-8e3f-ff0c9903357d"
      },
      "execution_count": null,
      "outputs": [
        {
          "output_type": "stream",
          "name": "stdout",
          "text": [
            "enter the text to search:bddd\n",
            "The text bddd does not have an a followed by zero or more b's\n"
          ]
        }
      ]
    },
    {
      "cell_type": "markdown",
      "source": [
        "3. Replace only the first occurrence of 5 with five for the given string\n",
        "\n",
        "\n"
      ],
      "metadata": {
        "id": "wRGEChMNCXjg"
      }
    },
    {
      "cell_type": "code",
      "source": [
        "import re\n",
        "txt=input(\"enter the text to search:\")\n",
        "x=re.sub(r'5','five',txt,1)\n",
        "print(x)"
      ],
      "metadata": {
        "colab": {
          "base_uri": "https://localhost:8080/"
        },
        "id": "TUBtsV9Zzlw3",
        "outputId": "730b3090-5155-483d-d5a4-b396aa537d6f"
      },
      "execution_count": null,
      "outputs": [
        {
          "output_type": "stream",
          "name": "stdout",
          "text": [
            "enter the text to search:They ate 5 apples and 5 oranges\n",
            "They ate five apples and 5 oranges\n"
          ]
        }
      ]
    },
    {
      "cell_type": "markdown",
      "source": [
        "4. Write a Python program that matches a string that has an a followed by three 'b'."
      ],
      "metadata": {
        "id": "YVR4aUw-C5Vb"
      }
    },
    {
      "cell_type": "code",
      "source": [
        "import re\n",
        "txt= input(\"Enter the text to search:\")\n",
        "x=re.search(r'ab{3}',txt)\n",
        "if x:\n",
        "  print(f\"The text {txt} has an a followed by three b's\")\n",
        "  print(x.group())\n",
        "else:\n",
        "  print(f\"The text {txt} does not have an a followed by three b's\")"
      ],
      "metadata": {
        "colab": {
          "base_uri": "https://localhost:8080/"
        },
        "id": "-qZ9za9SDQ4d",
        "outputId": "51742145-63f6-44a4-eece-8570ead742b4"
      },
      "execution_count": null,
      "outputs": [
        {
          "output_type": "stream",
          "name": "stdout",
          "text": [
            "Enter the text to search:my name is abbbyy\n",
            "The text my name is abbbyy has an a followed by three b's\n",
            "abbb\n"
          ]
        }
      ]
    },
    {
      "cell_type": "markdown",
      "source": [
        "5. Write a Python program that matches a string that has an 'a' followed by anything ending in 'b'.\n",
        "\n"
      ],
      "metadata": {
        "id": "G2sTdplPDOfm"
      }
    },
    {
      "cell_type": "code",
      "source": [
        "import re\n",
        "txt= input(\"Enter the text to search:\")\n",
        "x=re.search(r'a.*b',txt)\n",
        "if x:\n",
        "  print(f\"The text '{txt}' has an a followed by anything ending in b\")\n",
        "  print(x.group())\n",
        "else:\n",
        "  print(f\"The text '{txt}' does not have an a followed by anything ending in b\")\n"
      ],
      "metadata": {
        "colab": {
          "base_uri": "https://localhost:8080/"
        },
        "id": "AdbPy4vrhYcI",
        "outputId": "cb223016-f347-4841-f471-f47fefc330ed"
      },
      "execution_count": null,
      "outputs": [
        {
          "output_type": "stream",
          "name": "stdout",
          "text": [
            "Enter the text to search:how are you abeleb\n",
            "The text 'how are you abeleb' has an a followed by anything ending in b\n",
            "are you abeleb\n"
          ]
        }
      ]
    },
    {
      "cell_type": "markdown",
      "source": [
        "6. Write a Python program to search for numbers (0-9) of length between 1 and 3 in a given string."
      ],
      "metadata": {
        "id": "k21uc6Xjis_L"
      }
    },
    {
      "cell_type": "code",
      "source": [
        "import re\n",
        "txt=input(\"enter the text to search:\")\n",
        "x=re.findall(r'\\d{1,3}',txt)\n",
        "print(x)\n"
      ],
      "metadata": {
        "colab": {
          "base_uri": "https://localhost:8080/"
        },
        "id": "CkC7tyPUifv2",
        "outputId": "45e32c3b-24a3-457d-b612-3b0c0a7dcc76"
      },
      "execution_count": null,
      "outputs": [
        {
          "output_type": "stream",
          "name": "stdout",
          "text": [
            "enter the text to search:Exercises number 1, 12, 13, and 345 are important\n",
            "['1', '12', '13', '345']\n"
          ]
        }
      ]
    },
    {
      "cell_type": "markdown",
      "source": [
        "7. Write a Python program to search for literal strings within a string.\\\n",
        "Sample text : 'The quick brown fox jumps over the lazy dog.' \\\n",
        "Searched words : 'fox', 'dog', 'horse'"
      ],
      "metadata": {
        "id": "Eb29wKfmj49D"
      }
    },
    {
      "cell_type": "code",
      "source": [
        "import re\n",
        "txt=input(\"enter the text to search:\")\n",
        "x=re.findall(r'fox|dog|horse',txt)\n",
        "if x:\n",
        "  print(f\"The text '{txt}' has literal strings within it\")\n",
        "  print(x)\n",
        "else:\n",
        "  print(f\"The text '{txt}' does not have literal strings within it\")\n"
      ],
      "metadata": {
        "id": "MzT9sstRj4aA",
        "colab": {
          "base_uri": "https://localhost:8080/"
        },
        "outputId": "80c40bce-d46b-4025-d0b3-4feae2e94fd0"
      },
      "execution_count": 3,
      "outputs": [
        {
          "output_type": "stream",
          "name": "stdout",
          "text": [
            "enter the text to search:The quick brown fox jumps over the lazy dog & horse.\n",
            "The text 'The quick brown fox jumps over the lazy dog & horse.' has literal strings within it\n",
            "['fox', 'dog', 'horse']\n"
          ]
        }
      ]
    },
    {
      "cell_type": "markdown",
      "source": [
        "8. Write a Python program to search for a literal string in a string and also find the location within the original string where the pattern occurs."
      ],
      "metadata": {
        "id": "QUN9MlMojQxL"
      }
    },
    {
      "cell_type": "code",
      "source": [
        "import re\n",
        "txt=input(\"enter the text to search:\")\n",
        "x=re.search(r'fox',txt)\n",
        "if x:\n",
        "  print(f\"The text '{txt}' has literal string 'fox' and the location is {x.start()} and ends at {x.end()-1}\")\n",
        "else:\n",
        "  print(f\"The text '{txt}' does not have literal string 'fox'\")"
      ],
      "metadata": {
        "colab": {
          "base_uri": "https://localhost:8080/"
        },
        "id": "p9S2uu-cjela",
        "outputId": "6a8c88d4-6dbc-4a09-f889-41b306258714"
      },
      "execution_count": 5,
      "outputs": [
        {
          "output_type": "stream",
          "name": "stdout",
          "text": [
            "enter the text to search:The quick brown fox jumps over the lazy dog & horse.\n",
            "The text 'The quick brown fox jumps over the lazy dog & horse.' has literal string 'fox' and the location is 16 and ends at 18\n"
          ]
        }
      ]
    },
    {
      "cell_type": "markdown",
      "source": [
        "9. Write a Python program to extract year, month and date from an URL"
      ],
      "metadata": {
        "id": "NQwFQ9MGkdi1"
      }
    },
    {
      "cell_type": "code",
      "source": [
        "import re\n",
        "url=input(\"enter the url to search:\")\n",
        "x=re.search(r'/(\\d{4})/(\\d{2})/(\\d{2})',url)\n",
        "if x:\n",
        "  print(f\"The year is {x.group(1)}\")\n",
        "  print(f\"The month is {x.group(2)}\")\n",
        "  print(f\"The date is {x.group(3)}\")\n",
        "\n",
        "else:\n",
        "  print(f\"The url {url} does not have year, month and date\")"
      ],
      "metadata": {
        "colab": {
          "base_uri": "https://localhost:8080/"
        },
        "id": "6gcraKLo08-r",
        "outputId": "534c79bf-4f4c-482e-c899-f57aa84fb9d7"
      },
      "execution_count": 4,
      "outputs": [
        {
          "output_type": "stream",
          "name": "stdout",
          "text": [
            "enter the url to search:https://www.washingtonpost.com/news/football-insider/wp/2016/09/02/odell-beckhams-fame-rests-on-one-stupid-little-ball-josh-norman-tells-author/\n",
            "The year is 2016\n",
            "The month is 09\n",
            "The date is 02\n"
          ]
        }
      ]
    },
    {
      "cell_type": "markdown",
      "source": [],
      "metadata": {
        "id": "7hZpMQeh06pA"
      }
    }
  ]
}